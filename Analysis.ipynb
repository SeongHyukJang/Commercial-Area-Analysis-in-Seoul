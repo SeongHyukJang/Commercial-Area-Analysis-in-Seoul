{
 "cells": [
  {
   "cell_type": "markdown",
   "metadata": {},
   "source": [
    "## 어느 지역에서 무엇을 팔아야 돈을 벌까?"
   ]
  },
  {
   "cell_type": "markdown",
   "metadata": {},
   "source": [
    "### (1) 가설\n",
    "- 경쟁 상대가 적고 매출이 높으며, 유동인구수가 높은 주소에서 장사를 하면 잘 될 것이다.\n",
    "- 특정 주소에서 장사를 할 때 경쟁상대가 적고 매출이 높은 업종을 고르면 성공할 것이다."
   ]
  },
  {
   "cell_type": "markdown",
   "metadata": {},
   "source": [
    "### (2) 인터넷을 통한 데이터 획득"
   ]
  },
  {
   "cell_type": "markdown",
   "metadata": {},
   "source": [
    "- 서울시 열린 데이터 광장\n",
    "    - 서울시 우리마을가게 상권분석서비스(상권-점포) http://data.seoul.go.kr/dataList/datasetView.do?infId=OA-13336&srvType=S&serviceKind=1&currentPageNo=1&searchValue=&searchKey=null\n",
    "    - 서울시 우리마을가게 상권분석서비스(상권-추정매출) http://data.seoul.go.kr/dataList/datasetView.do?infId=OA-13339&srvType=S&serviceKind=1&currentPageNo=1&searchValue=&searchKey=null\n",
    "    - 서울시 우리마을가게 상권분석서비스(상권-추정유동인구) http://data.seoul.go.kr/dataList/datasetView.do?infId=OA-13340&srvType=S&serviceKind=1&currentPageNo=1\n",
    "##### 점포, 추정매출정보, 추정유동인구정보를 이용하여 주소별로, 업종별로 순위를 정한다.\n",
    "##### 자료는 2018년 8월,9월,10월까지의 자료"
   ]
  },
  {
   "cell_type": "markdown",
   "metadata": {},
   "source": [
    "### (3) 분석을 위한 데이터의 가공"
   ]
  },
  {
   "cell_type": "markdown",
   "metadata": {},
   "source": [
    "'source_code.py'안에 있는 함수\n",
    "1. sort_by_month() : csv파일을 월단위로 구분하여 새로운 csv파일을 만드는 함수\n",
    "2. sort_by_address() : 세세하게 나뉘어 있는 주소를 적당한 크기의 모집단위로 변환하는 함수\n",
    "3. ranking_by_address_in_ascending_order() : 데이터의 크기를 오름차순으로 정렬해주는 함수\n",
    "4. ranking_by_address_in_descending_order() : 데이터의 크기를 내림차순으로 정렬해주는 함수\n",
    "5. address_shop_index_in_list() : 주소별로 정리된 데이터를 업종데이터와 함께 묶어주는 함수\n",
    "6. ranking_by_address() : 주소별로 업종의 순위를 정하는 함수\n",
    "7. A_Result_Dictionary(): (A)의 결과를 딕셔너리 형태로 저장하는 함수\n",
    "8. A_Result(): (A)의 결과를 Series 형태로 보여주는 함수\n",
    "9. GetAddressRank(): (A)를 바탕으로 주소를 검색하면 순위를 보여주는 함수\n",
    "10. B_Result_DataFrame(): (B)의 결과를 DataFrame 형태로 보여주는 함수\n",
    "11. B_Result(): (B)의 결과를 IPython모듈을 이용해 보여주는 함수\n",
    "12. GetAddressInfo(): (B)를 바탕으로 주소를 검색하면 업종들의 순위를 보여주는 함수"
   ]
  },
  {
   "cell_type": "code",
   "execution_count": null,
   "metadata": {},
   "outputs": [],
   "source": [
    "from source_code import *"
   ]
  },
  {
   "cell_type": "markdown",
   "metadata": {},
   "source": [
    "###### 먼저 '점포', '매출', '유동인구'데이터를 월단위로 구분한다\n",
    "월단위로 구분하여 데이터를 분석하기위해, 함수 'sort_by_month()'를 정의하였다."
   ]
  },
  {
   "cell_type": "code",
   "execution_count": null,
   "metadata": {},
   "outputs": [],
   "source": [
    "sort_by_month('점포',10)\n",
    "sort_by_month('추정매출',10)\n",
    "sort_by_month('추정매출',9)\n",
    "sort_by_month('추정유동인구',10)\n",
    "sort_by_month('추정유동인구',9)\n",
    "sort_by_month('추정유동인구',8)\n",
    "#csv파일들을 월단위로 새로운 csv파일을 만들었다."
   ]
  },
  {
   "cell_type": "markdown",
   "metadata": {},
   "source": [
    "모집단위를 조금 더 크게 하여 주소를 \"~로~길\"을 \"~로길\"로 변환하기위해, 'sort_by_address()'를 정의하였다."
   ]
  },
  {
   "cell_type": "code",
   "execution_count": null,
   "metadata": {},
   "outputs": [],
   "source": [
    "sort_by_address('점포10월')\n",
    "sort_by_address('추정매출10월')\n",
    "sort_by_address('추정매출9월')\n",
    "sort_by_address('추정유동인구10월')\n",
    "sort_by_address('추정유동인구9월')\n",
    "sort_by_address('추정유동인구8월')"
   ]
  },
  {
   "cell_type": "markdown",
   "metadata": {},
   "source": [
    "### (A). 주소별로 '점포수'와 '추정매출'과 '추정유동인구수'를 이용해 주소들의 순위를 구한다."
   ]
  },
  {
   "cell_type": "markdown",
   "metadata": {},
   "source": [
    "주소를 기준으로 데이터들의 상대적인 순위를 구한다.<br>\n",
    "- 점포데이터: 점포의 갯수가 적은 곳이 순위가 높다.\n",
    "- 추정매출데이터: 매출이 높을수록 순위가 높다.\n",
    "- 추정유동인구: 유동인구가 많을수록 순위가 높다."
   ]
  },
  {
   "cell_type": "markdown",
   "metadata": {},
   "source": [
    "점포데이터는 데이터를 정렬할때 오름차순으로 정렬하기위해, 'ranking_by_address_in_ascending_order()'를 정의하였다."
   ]
  },
  {
   "cell_type": "markdown",
   "metadata": {},
   "source": [
    "추정매출데이터와 추정유동인구데이터는 내림차순으로 정렬하기위해, 'ranking_by_address_in_descending_order()'를 정의하였다."
   ]
  },
  {
   "cell_type": "code",
   "execution_count": null,
   "metadata": {
    "scrolled": true
   },
   "outputs": [],
   "source": [
    "ranking_by_address_in_ascending_order('점포10월')\n",
    "ranking_by_address_in_descending_order('추정매출10월')\n",
    "ranking_by_address_in_descending_order('추정매출9월')\n",
    "ranking_by_address_in_descending_order('추정유동인구10월')\n",
    "ranking_by_address_in_descending_order('추정유동인구9월')\n",
    "ranking_by_address_in_descending_order('추정유동인구8월')"
   ]
  },
  {
   "cell_type": "markdown",
   "metadata": {},
   "source": [
    "### (B). 주소별 + 업종별로 점포수와 추정매출을 분석한다."
   ]
  },
  {
   "cell_type": "markdown",
   "metadata": {},
   "source": [
    "데이터들의 상대적인 순위를 구한다.<br>\n",
    "- 점포데이터: 주소별로 점포의 갯수가 적은 곳이 순위가 높다.\n",
    "- 추정매출데이터: 주소별로 매출이 높을수록 순위가 높다."
   ]
  },
  {
   "cell_type": "markdown",
   "metadata": {},
   "source": [
    "데이터를 분석하기 쉽게 [주소, 업종, 데이터]로 나타내기 위하여, 'address_shop_index_in_list()'를 정의하였다."
   ]
  },
  {
   "cell_type": "code",
   "execution_count": null,
   "metadata": {},
   "outputs": [],
   "source": [
    "address_shop_index_in_list('점포10월')\n",
    "address_shop_index_in_list('추정매출10월')"
   ]
  },
  {
   "cell_type": "markdown",
   "metadata": {},
   "source": [
    "업종별 '점포'와 '추정매출'을 주소별로 순위를 매기기 위하여, 'ranking_by_address()'를 정의하였다."
   ]
  },
  {
   "cell_type": "code",
   "execution_count": null,
   "metadata": {},
   "outputs": [],
   "source": [
    "ranking_by_address(\"점포10월\")\n",
    "ranking_by_address(\"추정매출10월\")"
   ]
  },
  {
   "cell_type": "markdown",
   "metadata": {},
   "source": [
    "### (4) 분석 결과 도출"
   ]
  },
  {
   "cell_type": "markdown",
   "metadata": {},
   "source": [
    "### (A)결과\n",
    "'점포10월'자료의 딕셔너리와 '추정매출10월'자료와 '추정유동인구수10월'자료의 리스트의 관계를 분석하여 주소들의 최종 순위를 구한다.\n",
    " - 주소별 '점포'와 '추정매출'과 '추정유동인구수'의 순위를 합산하여 오름차순으로 순위를 매긴다."
   ]
  },
  {
   "cell_type": "code",
   "execution_count": null,
   "metadata": {
    "scrolled": true
   },
   "outputs": [],
   "source": [
    "A_Result_Dictionary()\n",
    "print('<어느 주소에서 장사를 해야할지 보여주는 지표>',A_Result(), sep = '\\n')"
   ]
  },
  {
   "cell_type": "markdown",
   "metadata": {},
   "source": [
    "### (B)결과\n",
    "'점포10월'자료의 딕셔너리와 '추정매출10월'자료의 리스트간의 관계를 분석하여 최종 순위를 구한다.\n",
    " - 주소별 '점포'와 '추정매출'의 순위를 합산하여 오름차순으로 순위를 매긴다."
   ]
  },
  {
   "cell_type": "code",
   "execution_count": null,
   "metadata": {},
   "outputs": [],
   "source": [
    "B_Result_DataFrame()\n",
    "B_Result()"
   ]
  },
  {
   "cell_type": "markdown",
   "metadata": {},
   "source": [
    "### (5) 결론"
   ]
  },
  {
   "cell_type": "markdown",
   "metadata": {},
   "source": [
    "(A). 업종에 상관없이 어떤 위치에서 장사를 하고 싶은지 고민될 때 사용할 수 있는 함수"
   ]
  },
  {
   "cell_type": "code",
   "execution_count": null,
   "metadata": {},
   "outputs": [],
   "source": [
    "A_Result()"
   ]
  },
  {
   "cell_type": "code",
   "execution_count": null,
   "metadata": {},
   "outputs": [],
   "source": [
    "GetAddressRank()"
   ]
  },
  {
   "cell_type": "markdown",
   "metadata": {},
   "source": [
    "(B). 위치를 정했을 때 어떤 업종을 골라서 장사를 해야할지 고민될 때 사용할 수 있는 함수"
   ]
  },
  {
   "cell_type": "code",
   "execution_count": null,
   "metadata": {},
   "outputs": [],
   "source": [
    "GetAddressInfo()"
   ]
  },
  {
   "cell_type": "markdown",
   "metadata": {},
   "source": [
    "### (6) 참고문헌"
   ]
  },
  {
   "cell_type": "markdown",
   "metadata": {},
   "source": [
    "1. Python의 전반적인 문법: https://docs.python.org/3/\n",
    "2. Pandas모듈 사용법: https://3months.tistory.com/292\n",
    "3. IPython모듈의 사용법: https://ipython.readthedocs.io/en/stable/api/generated/IPython.display.html\n",
    "4. 데이터 사이언스 스쿨: https://datascienceschool.net/"
   ]
  }
 ],
 "metadata": {
  "kernelspec": {
   "display_name": "Python 3",
   "language": "python",
   "name": "python3"
  },
  "language_info": {
   "codemirror_mode": {
    "name": "ipython",
    "version": 3
   },
   "file_extension": ".py",
   "mimetype": "text/x-python",
   "name": "python",
   "nbconvert_exporter": "python",
   "pygments_lexer": "ipython3",
   "version": "3.7.3"
  }
 },
 "nbformat": 4,
 "nbformat_minor": 2
}
